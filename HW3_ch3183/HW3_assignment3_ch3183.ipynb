{
 "cells": [
  {
   "cell_type": "markdown",
   "metadata": {},
   "source": [
    "# IDEA:New route reduce the travel time\n",
    "\n",
    "NULL HYPOTHESIS:\n",
    "The average travel time of the new route is no less than the old route\n",
    "H_0:  T_{new} >= T_{old}\n",
    "\n",
    "ALTERNATIVE HYPOTHESIS:\n",
    "The average travel time the new route is less than the old route\n",
    "H_1:  T_{new} < T_{old}\n",
    "\n",
    "Use significance level alpha=0.05 "
   ]
  },
  {
   "cell_type": "code",
   "execution_count": 16,
   "metadata": {},
   "outputs": [],
   "source": [
    "import numpy as np\n",
    "import matplotlib.pyplot as plt\n",
    "%matplotlib inline\n",
    "import os"
   ]
  },
  {
   "cell_type": "code",
   "execution_count": 17,
   "metadata": {},
   "outputs": [
    {
     "name": "stdout",
     "output_type": "stream",
     "text": [
      "file in place, you can continue\n"
     ]
    }
   ],
   "source": [
    "#download the file to PUIdata folder\n",
    "os.system(\"curl -O https://raw.githubusercontent.com/fedhere/PUI2017_fb55/master/Lab3_fb55/times.txt\")\n",
    "os.system(\"mv \" + \"times.txt \" + os.getenv(\"PUIDATA\"))\n",
    "if not os.path.isfile(os.getenv(\"PUIDATA\") + \"/times.txt\"):\n",
    "        print (\"WARNING!!! something is wrong: the file is not there!\")\n",
    "\n",
    "else:\n",
    "        print (\"file in place, you can continue\")"
   ]
  },
  {
   "cell_type": "code",
   "execution_count": 18,
   "metadata": {},
   "outputs": [],
   "source": [
    "data=np.loadtxt(os.getenv(\"PUIDATA\") + \"/times.txt\")"
   ]
  },
  {
   "cell_type": "code",
   "execution_count": 19,
   "metadata": {},
   "outputs": [
    {
     "data": {
      "text/plain": [
       "34.466161688299998"
      ]
     },
     "execution_count": 19,
     "metadata": {},
     "output_type": "execute_result"
    }
   ],
   "source": [
    "data.mean()"
   ]
  },
  {
   "cell_type": "code",
   "execution_count": 20,
   "metadata": {},
   "outputs": [
    {
     "data": {
      "text/plain": [
       "7.1015040681937762"
      ]
     },
     "execution_count": 20,
     "metadata": {},
     "output_type": "execute_result"
    }
   ],
   "source": [
    "data.std()"
   ]
  },
  {
   "cell_type": "code",
   "execution_count": 21,
   "metadata": {},
   "outputs": [
    {
     "data": {
      "text/plain": [
       "2.5563971861666701"
      ]
     },
     "execution_count": 21,
     "metadata": {},
     "output_type": "execute_result"
    }
   ],
   "source": [
    "ztest=(36-data.mean())/6*np.sqrt(np.size(data))\n",
    "ztest"
   ]
  },
  {
   "cell_type": "markdown",
   "metadata": {},
   "source": [
    "# result from the ztest as 2.55 indicates mean time of new route is about two sigma away from the old time, which also means p < 0.05, so we can reject the null hypothesis"
   ]
  }
 ],
 "metadata": {
  "kernelspec": {
   "display_name": "Python 3",
   "language": "python",
   "name": "python3"
  },
  "language_info": {
   "codemirror_mode": {
    "name": "ipython",
    "version": 3
   },
   "file_extension": ".py",
   "mimetype": "text/x-python",
   "name": "python",
   "nbconvert_exporter": "python",
   "pygments_lexer": "ipython3",
   "version": "3.6.1"
  }
 },
 "nbformat": 4,
 "nbformat_minor": 2
}
